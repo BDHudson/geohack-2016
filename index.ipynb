{
 "cells": [
  {
   "cell_type": "markdown",
   "metadata": {},
   "source": [
    "# Geohack-2016\n",
    "\n",
    "These notebooks are being developed for the Geohack workshops.\n",
    "\n",
    "These notebooks and the data files they use can be found in the GitHub repository https://github.com/rjleveque/geohack-2016."
   ]
  },
  {
   "cell_type": "markdown",
   "metadata": {},
   "source": [
    "# Sample notebooks:\n",
    "\n",
    "- [ipyleaflet_polygon_selector.ipynb](Notebooks/ipyleaflet_polygon_selector.ipynb)\n",
    "  Select a rectangle or polygon from a map and print out vertices or make a kml file.\n",
    "  \n",
    "- [Cesium_plotkml.ipynb](Notebooks/Cesium_plotkml.ipynb)\n",
    "  Plot a kml file on a Cesium map.\n",
    "  \n",
    "- [query_topo.ipynb](Notebooks/query_topo.ipynb)\n",
    "  Fetch a topo DEM from the [etopo1 database](http://www.ngdc.noaa.gov/mgg/global/global.html), and make plots that can be interactively queried to return the value at a point or along a transect.\n"
   ]
  },
  {
   "cell_type": "code",
   "execution_count": null,
   "metadata": {
    "collapsed": true
   },
   "outputs": [],
   "source": []
  }
 ],
 "metadata": {
  "kernelspec": {
   "display_name": "Python 2",
   "language": "python",
   "name": "python2"
  },
  "language_info": {
   "codemirror_mode": {
    "name": "ipython",
    "version": 2
   },
   "file_extension": ".py",
   "mimetype": "text/x-python",
   "name": "python",
   "nbconvert_exporter": "python",
   "pygments_lexer": "ipython2",
   "version": "2.7.11"
  },
  "widgets": {
   "state": {},
   "version": "1.1.2"
  }
 },
 "nbformat": 4,
 "nbformat_minor": 0
}

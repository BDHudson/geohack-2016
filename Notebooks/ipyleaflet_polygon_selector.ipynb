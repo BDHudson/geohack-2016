{
 "cells": [
  {
   "cell_type": "markdown",
   "metadata": {},
   "source": [
    "# Tool to draw polygons on maps and capture vertices\n",
    "\n",
    "This notebook lets you draw rectangles or polygons on a map and print out the vertices.  \n",
    "\n",
    "This is useful to generate lists of vertices as input to GeoClaw, e.g. to specify AMR regions or fixed grid output domains.\n",
    "\n",
    "Requires <https://github.com/ellisonbg/ipyleaflet>"
   ]
  },
  {
   "cell_type": "code",
   "execution_count": 1,
   "metadata": {
    "collapsed": true
   },
   "outputs": [],
   "source": [
    "from IPython.display import display\n",
    "import ipywidgets"
   ]
  },
  {
   "cell_type": "code",
   "execution_count": 2,
   "metadata": {
    "collapsed": false
   },
   "outputs": [],
   "source": [
    "from __future__ import print_function\n",
    "import ipyleaflet\n",
    "\n",
    "from ipyleaflet import (\n",
    "    Map,\n",
    "    Marker,\n",
    "    TileLayer, ImageOverlay,\n",
    "    Polyline, Polygon, Rectangle, Circle, CircleMarker,\n",
    "    GeoJSON,\n",
    "    DrawControl\n",
    ")\n"
   ]
  },
  {
   "cell_type": "markdown",
   "metadata": {},
   "source": [
    "# Latitude, Longitude of Map "
   ]
  },
  {
   "cell_type": "code",
   "execution_count": 3,
   "metadata": {
    "collapsed": false
   },
   "outputs": [],
   "source": [
    "#center = [48.355, -124.642] # Neah Bay\n",
    "center = [41.75, -124.19] # Crescent City\n",
    "\n",
    "zoom = 11\n",
    "m = Map(center=center, zoom=zoom)\n",
    "m"
   ]
  },
  {
   "cell_type": "markdown",
   "metadata": {},
   "source": [
    "### Map Widget and drawing tool Definitions\n",
    "\n",
    "If you try setting `topo_background == True` in the next cell it no longer works because Mapquest no longer allows freely downloading maps or imagery.  See: http://devblog.mapquest.com/2016/06/15/modernization-of-mapquest-results-in-changes-to-open-tile-access/\n",
    "\n",
    "Is there another source of topo imagery?"
   ]
  },
  {
   "cell_type": "code",
   "execution_count": 6,
   "metadata": {
    "collapsed": false
   },
   "outputs": [],
   "source": [
    "zoom = 13\n",
    "c = ipywidgets.Box()\n",
    "\n",
    "topo_background = False   # Use topo as background rather than map?\n",
    "## NOTE: topo_background == True is broken -- see note above.\n",
    "\n",
    "if topo_background:\n",
    "    m = Map(width='1000px',height='600px', center=center, zoom=zoom, \\\n",
    "        default_tiles=TileLayer(url=u'http://otile1.mqcdn.com/tiles/1.0.0/sat/{z}/{x}/{y}.jpg'))\n",
    "else:\n",
    "    m = Map(width='1000px',height='600px', center=center, zoom=zoom)\n",
    "    \n",
    "c.children = [m]\n",
    "\n",
    "# keep track of rectangles and polygons drawn on map:\n",
    "def clear_m():\n",
    "    global rects,polys\n",
    "    rects = set()\n",
    "    polys = set()\n",
    "    \n",
    "clear_m()\n",
    "rect_color = '#a52a2a'\n",
    "poly_color = '#00F'\n",
    "\n",
    "myDrawControl = DrawControl(\n",
    "rectangle={'shapeOptions':{'color':rect_color}},\n",
    "        polygon={'shapeOptions':{'color':poly_color}}) #,polyline=None)\n",
    "\n",
    "def handle_draw(self, action, geo_json):\n",
    "    global rects,polys\n",
    "    polygon=[]\n",
    "    for coords in geo_json['geometry']['coordinates'][0][:-1][:]:\n",
    "        polygon.append(tuple(coords))\n",
    "    polygon = tuple(polygon)\n",
    "    if geo_json['properties']['style']['color'] == '#00F':  # poly\n",
    "        if action == 'created':\n",
    "            polys.add(polygon)\n",
    "        elif action == 'deleted':\n",
    "            polys.discard(polygon)\n",
    "    if geo_json['properties']['style']['color'] == '#a52a2a':  # rect\n",
    "        if action == 'created':\n",
    "            rects.add(polygon)\n",
    "        elif action == 'deleted':\n",
    "            rects.discard(polygon)\n",
    "myDrawControl.on_draw(handle_draw)\n",
    "m.add_control(myDrawControl)"
   ]
  },
  {
   "cell_type": "markdown",
   "metadata": {
    "collapsed": true
   },
   "source": [
    "### On the map below, select the polygon tool or the rectangle tool and start clicking points.  \n",
    "\n",
    "You can add several of each if you want.  \n",
    "\n",
    "**Note:** \n",
    " - If you delete one, you must then click 'save'.  \n",
    " - The edit function doesn't save the edited version (need fixing)."
   ]
  },
  {
   "cell_type": "code",
   "execution_count": 7,
   "metadata": {
    "collapsed": false
   },
   "outputs": [],
   "source": [
    "clear_m()\n",
    "display(m)"
   ]
  },
  {
   "cell_type": "markdown",
   "metadata": {},
   "source": [
    "#### Now you can print the coordinates of the vertices:\n",
    "\n",
    "Note that 5 digits gives about 1 meter precision."
   ]
  },
  {
   "cell_type": "code",
   "execution_count": 10,
   "metadata": {
    "collapsed": false
   },
   "outputs": [],
   "source": [
    "for r in polys: \n",
    "    print(\"\\nPolygon vertices:\")\n",
    "    for c in r: print('%10.5f, %10.5f' % c)\n",
    "        \n",
    "for r in rects: \n",
    "    print(\"\\nRectangle vertices:\")\n",
    "    for c in r: print('%10.5f, %10.5f' % c)"
   ]
  },
  {
   "cell_type": "markdown",
   "metadata": {
    "collapsed": true
   },
   "source": [
    "#### Re-execute the cell above the map to clear and specify a new set of polygons."
   ]
  },
  {
   "cell_type": "markdown",
   "metadata": {},
   "source": [
    "## Other ways to print the vertices\n",
    "\n",
    "Depending on what you want to do with the output, you might want to print in a different format.  Here are some examples...\n",
    "\n",
    "#### Rectangle as a tuple x1,y1,x2,y2 of corners:\n",
    "\n",
    "This format is used in specifying a GeoClaw AMR \"region\"."
   ]
  },
  {
   "cell_type": "code",
   "execution_count": 11,
   "metadata": {
    "collapsed": false
   },
   "outputs": [],
   "source": [
    "for r in rects:\n",
    "    print(\"\\nCoordinates of lower left and upper right corner of rectangle:\")\n",
    "    x1 = r[0][0]\n",
    "    x2 = r[2][0]\n",
    "    y1 = r[0][1]\n",
    "    y2 = r[2][1]\n",
    "    print(\"x1, y1, x2, y2 = %10.5f, %10.5f, %10.5f, %10.5f\" % (x1,y1,x2,y2))"
   ]
  },
  {
   "cell_type": "markdown",
   "metadata": {},
   "source": [
    "#### As tuples x and y:\n",
    "\n",
    "This format is used in specifying a GeoClaw fgmax rectangle or quadrilateral."
   ]
  },
  {
   "cell_type": "code",
   "execution_count": 12,
   "metadata": {
    "collapsed": false
   },
   "outputs": [],
   "source": [
    "for r in rects:\n",
    "    print(\"\\nCoordinates of lower left and upper right corner of rectangle:\")\n",
    "    x1 = r[0][0]\n",
    "    x2 = r[2][0]\n",
    "    y1 = r[0][1]\n",
    "    y2 = r[2][1]\n",
    "    print(\"x = %10.5f, %10.5f\" % (x1,x2))\n",
    "    print(\"y = %10.5f, %10.5f\" % (y1,y2))\n",
    "    \n",
    "\n",
    "for r in polys:\n",
    "    print(\"\\nCoordinates of distinct vertices of polygon:\")\n",
    "    sx = 'x = '\n",
    "    sy = 'y = '\n",
    "    for j in range(len(r)-1):\n",
    "        sx = sx + ' %10.5f,' % r[j][0]\n",
    "        sy = sy + ' %10.5f,' % r[j][1]\n",
    "    print(sx)\n",
    "    print(sy)\n",
    "        "
   ]
  },
  {
   "cell_type": "markdown",
   "metadata": {},
   "source": [
    "## To create kml files:\n",
    "\n",
    "You can create a set of kml files for each rectangle or polygon with the code below.  \n",
    "`poly2kml` is recently added to `geoclaw.kmltools`.  \n",
    "\n",
    "Executing this code requires first installing [Clawpack](http://www.clawpack.org)."
   ]
  },
  {
   "cell_type": "code",
   "execution_count": 13,
   "metadata": {
    "collapsed": false
   },
   "outputs": [],
   "source": [
    "from clawpack.geoclaw import kmltools\n",
    "reload(kmltools)\n",
    "for i,r in enumerate(rects):\n",
    "    x1 = r[0][0]\n",
    "    x2 = r[2][0]\n",
    "    y1 = r[0][1]\n",
    "    y2 = r[2][1]\n",
    "    name = \"rect%i\" % i\n",
    "    kmltools.box2kml((x1,x2,y1,y2), name=name, verbose=True)"
   ]
  },
  {
   "cell_type": "code",
   "execution_count": 14,
   "metadata": {
    "collapsed": false
   },
   "outputs": [],
   "source": [
    "for i,r in enumerate(polys):\n",
    "    x = [xy[0] for xy in r]\n",
    "    y = [xy[1] for xy in r]\n",
    "    kmltools.poly2kml((x,y), name=\"poly%i\" % i, verbose=True)"
   ]
  },
  {
   "cell_type": "code",
   "execution_count": null,
   "metadata": {
    "collapsed": true
   },
   "outputs": [],
   "source": []
  }
 ],
 "metadata": {
  "kernelspec": {
   "display_name": "Python 2",
   "language": "python",
   "name": "python2"
  },
  "language_info": {
   "codemirror_mode": {
    "name": "ipython",
    "version": 2
   },
   "file_extension": ".py",
   "mimetype": "text/x-python",
   "name": "python",
   "nbconvert_exporter": "python",
   "pygments_lexer": "ipython2",
   "version": "2.7.11"
  },
  "widgets": {
   "state": {},
   "version": "1.1.2"
  }
 },
 "nbformat": 4,
 "nbformat_minor": 0
}

{
 "cells": [
  {
   "cell_type": "markdown",
   "metadata": {},
   "source": [
    "# Cesium_plotkml\n",
    "\n",
    "Illustrates how to plot kml files on top of maps or imagery in Cesium."
   ]
  },
  {
   "cell_type": "code",
   "execution_count": 1,
   "metadata": {
    "collapsed": false
   },
   "outputs": [],
   "source": [
    "import cesiumpy  # install from https://pypi.python.org/pypi/cesiumpy"
   ]
  },
  {
   "cell_type": "code",
   "execution_count": 4,
   "metadata": {
    "collapsed": false,
    "scrolled": false
   },
   "outputs": [],
   "source": [
    "v = cesiumpy.Viewer()\n",
    "\n",
    "v.dataSources.add(cesiumpy.KmlDataSource('../DataFiles/CrescentCityBox.kml'))\n",
    "v.dataSources.add(cesiumpy.KmlDataSource('../DataFiles/CrescentCityTransect.kml'))\n",
    "\n",
    "viewpoint = (-124.19, 41.74, 2e4)  # inital view (longitude, latitude, elevation) for Crescent City\n",
    "v.camera.flyTo(viewpoint)\n",
    "v"
   ]
  },
  {
   "cell_type": "code",
   "execution_count": null,
   "metadata": {
    "collapsed": true
   },
   "outputs": [],
   "source": []
  }
 ],
 "metadata": {
  "kernelspec": {
   "display_name": "Python 2",
   "language": "python",
   "name": "python2"
  },
  "language_info": {
   "codemirror_mode": {
    "name": "ipython",
    "version": 2
   },
   "file_extension": ".py",
   "mimetype": "text/x-python",
   "name": "python",
   "nbconvert_exporter": "python",
   "pygments_lexer": "ipython2",
   "version": "2.7.11"
  },
  "widgets": {
   "state": {},
   "version": "1.1.2"
  }
 },
 "nbformat": 4,
 "nbformat_minor": 0
}
